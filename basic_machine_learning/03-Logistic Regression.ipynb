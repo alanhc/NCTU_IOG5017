{
 "cells": [
  {
   "cell_type": "markdown",
   "metadata": {},
   "source": [
    "# Logistic Regression"
   ]
  },
  {
   "cell_type": "code",
   "execution_count": null,
   "metadata": {},
   "outputs": [],
   "source": [
    "from PIL import Image\n",
    "import numpy as np\n",
    "%matplotlib inline\n",
    "import matplotlib\n",
    "import matplotlib.pyplot as plt\n",
    "from sklearn import linear_model, datasets\n",
    "matplotlib.style.use('bmh')\n",
    "matplotlib.rcParams['figure.figsize']=(10,7)"
   ]
  },
  {
   "cell_type": "markdown",
   "metadata": {},
   "source": [
    "### Logistic function\n",
    "\n",
    "\n",
    "# $f(x)={\\frac {1}{1+e^{-x}}}.$ "
   ]
  },
  {
   "cell_type": "code",
   "execution_count": null,
   "metadata": {
    "collapsed": false,
    "jupyter": {
     "outputs_hidden": false
    }
   },
   "outputs": [],
   "source": [
    "def sigmoid(x):\n",
    "    return 1/(1+np.exp(-x))\n",
    "x = np.linspace(-15,15,100)\n",
    "plt.plot(x, sigmoid(x));"
   ]
  },
  {
   "cell_type": "code",
   "execution_count": null,
   "metadata": {
    "collapsed": false,
    "jupyter": {
     "outputs_hidden": false
    }
   },
   "outputs": [],
   "source": [
    "X = np.random.normal(5, 5, size=(50,1))\n",
    "y0 = X[:,0]>0\n",
    "y = y0.ravel()*2-1\n",
    "\n",
    "# linear regression\n",
    "regr = linear_model.LinearRegression().fit(X, y)\n",
    "test_X=np.linspace(-10,10,100).reshape(-1,1)\n",
    "plt.plot(X, y, 'x');\n",
    "plt.plot(test_X, regr.predict(test_X))\n",
    "plt.plot([-regr.intercept_/regr.coef_[0]]*2, [-1.5,1.5], 'r--')\n",
    "\n",
    "\n",
    "# logistic regression\n",
    "clf = linear_model.LogisticRegression()\n",
    "clf.fit(X,y)\n",
    "plt.plot(test_X, 2*sigmoid(test_X @ clf.coef_ +clf.intercept_)-1, 'g');\n",
    "plt.plot([-clf.intercept_/clf.coef_[0]]*2, [-1.5,1.5], 'g--');"
   ]
  },
  {
   "cell_type": "markdown",
   "metadata": {},
   "source": [
    "簡易的 logistic regression 實驗\n",
    "\n",
    "\n",
    "\n",
    "使用 Iris dataset https://zh.wikipedia.org/wiki/安德森鸢尾花卉数据集"
   ]
  },
  {
   "cell_type": "code",
   "execution_count": null,
   "metadata": {
    "collapsed": false,
    "jupyter": {
     "outputs_hidden": false
    }
   },
   "outputs": [],
   "source": [
    "# Iris dataset\n",
    "X, y = datasets.load_iris(return_X_y=True)\n",
    "# 只取 y=0,2 以及 X 的前兩個 features\n",
    "X = X[y!=1, :2]\n",
    "y = y[y!=1]\n",
    "clf = linear_model.LogisticRegression()\n",
    "clf.fit(X, y)\n",
    "\n",
    "# 邊界\n",
    "x_min, y_min = X.min(axis=0)-1\n",
    "x_max, y_max = X.max(axis=0)+1\n",
    "\n",
    "# 座標點\n",
    "grid  = np.mgrid[x_min:x_max:200j, y_min:y_max:200j]\n",
    "# grid.shape = (2, 200, 200)\n",
    "\n",
    "# 在座標點 算出 logistic 的預測\n",
    "Z = clf.decision_function(grid.reshape(2, -1).T)\n",
    "Z  = Z.reshape(grid.shape[1:])\n",
    "\n",
    "# 畫出顏色和邊界\n",
    "plt.pcolormesh(grid[0], grid[1], Z > 0, cmap=plt.cm.rainbow, alpha=0.02)\n",
    "plt.contour(grid[0], grid[1], Z, colors=['k'], linestyles=['-'],\n",
    "                levels=[0])\n",
    "\n",
    "# 標出 sample 點\n",
    "plt.scatter(X[:,0], X[:, 1],  c=y, cmap=plt.cm.rainbow, zorder=10, s=50);\n"
   ]
  },
  {
   "cell_type": "markdown",
   "metadata": {},
   "source": [
    "## Q\n",
    "* 不同的設定"
   ]
  },
  {
   "cell_type": "markdown",
   "metadata": {},
   "source": [
    "### Multi class"
   ]
  },
  {
   "cell_type": "code",
   "execution_count": null,
   "metadata": {
    "collapsed": false,
    "jupyter": {
     "outputs_hidden": false
    }
   },
   "outputs": [],
   "source": [
    "# Iris dataset\n",
    "X, y = datasets.load_iris(return_X_y=True)\n",
    "# 只取兩個 features\n",
    "X = X[:, [0,2]]\n",
    "\n",
    "clf = linear_model.LogisticRegression(multi_class='multinomial', solver='lbfgs')\n",
    "clf.fit(X, y)\n",
    "\n",
    "# 邊界\n",
    "x_min, y_min = X.min(axis=0)-1\n",
    "x_max, y_max = X.max(axis=0)+1\n",
    "\n",
    "# 座標點\n",
    "grid  = np.mgrid[x_min:x_max:200j, y_min:y_max:200j]\n",
    "# grid.shape = (2, 200, 200)\n",
    "\n",
    "# 在座標點 算出 logistic 的預測機率\n",
    "Z = clf.predict_proba(grid.reshape(2, -1).T)\n",
    "# 圖片\n",
    "Z  = Z.reshape(200, 200, 3)\n",
    "\n",
    "# 畫出顏色和邊界\n",
    "plt.imshow(Z.swapaxes(0,1)[::-1, :], extent=(x_min, x_max, y_min, y_max), alpha=0.3)\n",
    "plt.contour(grid[0], grid[1], Z.argmax(axis=2), \n",
    "            colors=['k','k','k'], linestyles=['--'],levels=[0,1,2], alpha=0.5)\n",
    "\n",
    "# 標出 sample 點\n",
    "plt.scatter(X[:,0], X[:, 1],  c=[\"rgb\"[i] for i in y], zorder=10, s=50);"
   ]
  },
  {
   "cell_type": "markdown",
   "metadata": {},
   "source": [
    "## MNIST"
   ]
  },
  {
   "cell_type": "code",
   "execution_count": null,
   "metadata": {
    "collapsed": false,
    "jupyter": {
     "outputs_hidden": false
    }
   },
   "outputs": [],
   "source": [
    "import gzip\n",
    "import pickle\n",
    "with gzip.open('mnist.pkl.gz', 'rb') as f:\n",
    "    train_set, validation_set, test_set = pickle.load(f, encoding='latin1')\n",
    "    \n",
    "train_X, train_y = train_set\n",
    "test_X, test_y = test_set\n"
   ]
  },
  {
   "cell_type": "code",
   "execution_count": null,
   "metadata": {},
   "outputs": [],
   "source": [
    "clf = linear_model.LogisticRegression(multi_class='multinomial', solver='lbfgs')"
   ]
  },
  {
   "cell_type": "code",
   "execution_count": null,
   "metadata": {
    "collapsed": false,
    "jupyter": {
     "outputs_hidden": false
    }
   },
   "outputs": [],
   "source": [
    "%%timeit -n 1 -r 1\n",
    "clf.fit(train_X, train_y)"
   ]
  },
  {
   "cell_type": "code",
   "execution_count": null,
   "metadata": {
    "collapsed": false,
    "jupyter": {
     "outputs_hidden": false
    }
   },
   "outputs": [],
   "source": [
    "%%timeit -n 1 -r 1\n",
    "print(np.mean(clf.predict(train_X) == train_y))"
   ]
  },
  {
   "cell_type": "code",
   "execution_count": null,
   "metadata": {
    "collapsed": false,
    "jupyter": {
     "outputs_hidden": false
    }
   },
   "outputs": [],
   "source": [
    "%%timeit -n 1 -r 1\n",
    "print(np.mean(clf.predict(test_X) == test_y))"
   ]
  },
  {
   "cell_type": "markdown",
   "metadata": {},
   "source": [
    "## Q\n",
    "* `multi_class =\"ovr\"`"
   ]
  },
  {
   "cell_type": "markdown",
   "metadata": {},
   "source": [
    "### Apply a random nonlinear transform\n",
    "Extreme learning machine"
   ]
  },
  {
   "cell_type": "code",
   "execution_count": null,
   "metadata": {},
   "outputs": [],
   "source": [
    "random_matrix = np.random.normal(0,1,size=[784, 4096])"
   ]
  },
  {
   "cell_type": "code",
   "execution_count": null,
   "metadata": {},
   "outputs": [],
   "source": [
    "train_X2 = np.tanh(train_X@random_matrix)\n",
    "clf.fit(train_X2, train_y)"
   ]
  },
  {
   "cell_type": "code",
   "execution_count": null,
   "metadata": {},
   "outputs": [],
   "source": [
    "print(np.mean(clf.predict(train_X2) == train_y))"
   ]
  },
  {
   "cell_type": "code",
   "execution_count": null,
   "metadata": {},
   "outputs": [],
   "source": [
    "test_X2 = np.tanh(test_X@random_matrix)\n",
    "print(np.mean(clf.predict(test_X2) == test_y))"
   ]
  },
  {
   "cell_type": "code",
   "execution_count": null,
   "metadata": {},
   "outputs": [],
   "source": []
  }
 ],
 "metadata": {
  "kernelspec": {
   "display_name": "Python 3",
   "language": "python",
   "name": "python3"
  },
  "language_info": {
   "codemirror_mode": {
    "name": "ipython",
    "version": 3
   },
   "file_extension": ".py",
   "mimetype": "text/x-python",
   "name": "python",
   "nbconvert_exporter": "python",
   "pygments_lexer": "ipython3",
   "version": "3.8.5"
  }
 },
 "nbformat": 4,
 "nbformat_minor": 4
}
