{
 "cells": [
  {
   "cell_type": "markdown",
   "metadata": {},
   "source": [
    "# Linear Regression"
   ]
  },
  {
   "cell_type": "code",
   "execution_count": null,
   "metadata": {},
   "outputs": [],
   "source": [
    "from PIL import Image\n",
    "import numpy as np\n",
    "%matplotlib inline\n",
    "import matplotlib\n",
    "import matplotlib.pyplot as plt\n",
    "matplotlib.style.use('bmh')\n",
    "matplotlib.rcParams['figure.figsize']=(8,5)"
   ]
  },
  {
   "cell_type": "markdown",
   "metadata": {},
   "source": [
    "簡易的 linear regression 實驗"
   ]
  },
  {
   "cell_type": "code",
   "execution_count": null,
   "metadata": {},
   "outputs": [],
   "source": [
    "# 產生隨機數據\n",
    "X = np.random.normal(0, 3, size=(50,1))\n",
    "Y = X @ [3] + np.random.normal(0, size=50)\n",
    "# 畫出來看看\n",
    "plt.plot(X, Y, 'o');"
   ]
  },
  {
   "cell_type": "code",
   "execution_count": null,
   "metadata": {},
   "outputs": [],
   "source": [
    "# 用 numpy 的 lstsq\n",
    "a = np.linalg.lstsq(X, Y)[0]\n",
    "a"
   ]
  },
  {
   "cell_type": "code",
   "execution_count": null,
   "metadata": {},
   "outputs": [],
   "source": [
    "# 畫出來\n",
    "plt.plot(X, Y, 'o')\n",
    "plt.plot(X, X @ a, 'o');"
   ]
  },
  {
   "cell_type": "markdown",
   "metadata": {},
   "source": [
    "## Q \n",
    "如何加上常數項？\n",
    "\n",
    "Hint: 使用 `np.concatenate`, `np.ones_like`"
   ]
  },
  {
   "cell_type": "code",
   "execution_count": null,
   "metadata": {},
   "outputs": [],
   "source": [
    "%run -i q_lstsq.py"
   ]
  },
  {
   "cell_type": "markdown",
   "metadata": {},
   "source": [
    "## 用 sklearn"
   ]
  },
  {
   "cell_type": "code",
   "execution_count": null,
   "metadata": {},
   "outputs": [],
   "source": [
    "from sklearn import linear_model"
   ]
  },
  {
   "cell_type": "code",
   "execution_count": null,
   "metadata": {},
   "outputs": [],
   "source": [
    "X = np.random.normal(0, 3, size=(50,1))\n",
    "Y = X @ [3] + 4 +np.random.normal(0, size=50)"
   ]
  },
  {
   "cell_type": "code",
   "execution_count": null,
   "metadata": {},
   "outputs": [],
   "source": [
    "regr = linear_model.LinearRegression()\n",
    "regr"
   ]
  },
  {
   "cell_type": "code",
   "execution_count": null,
   "metadata": {},
   "outputs": [],
   "source": [
    "regr.fit(X,Y)\n",
    "print(regr.coef_, regr.intercept_)"
   ]
  },
  {
   "cell_type": "code",
   "execution_count": null,
   "metadata": {},
   "outputs": [],
   "source": [
    "# 畫出來\n",
    "plt.plot(X, Y, 'o')\n",
    "plt.plot(X, regr.predict(X), 'o');"
   ]
  },
  {
   "cell_type": "markdown",
   "metadata": {},
   "source": [
    "## Q\n",
    "畫出 `test_X = np.linspace(-10,10, 100)` 的圖形"
   ]
  },
  {
   "cell_type": "code",
   "execution_count": null,
   "metadata": {},
   "outputs": [],
   "source": [
    "%run -i q_linear_test.py"
   ]
  },
  {
   "cell_type": "markdown",
   "metadata": {},
   "source": [
    "### 使用 sklearn 的 datasets"
   ]
  },
  {
   "cell_type": "code",
   "execution_count": null,
   "metadata": {},
   "outputs": [],
   "source": [
    "from sklearn import datasets"
   ]
  },
  {
   "cell_type": "code",
   "execution_count": null,
   "metadata": {},
   "outputs": [],
   "source": [
    "diabetes = datasets.load_diabetes()\n",
    "diabetes"
   ]
  },
  {
   "cell_type": "code",
   "execution_count": null,
   "metadata": {},
   "outputs": [],
   "source": [
    "import scipy.stats"
   ]
  },
  {
   "cell_type": "code",
   "execution_count": null,
   "metadata": {},
   "outputs": [],
   "source": [
    "scipy.stats.describe(diabetes.target)"
   ]
  },
  {
   "cell_type": "code",
   "execution_count": null,
   "metadata": {},
   "outputs": [],
   "source": [
    "idx = np.arange(diabetes.data.shape[0])\n",
    "np.random.shuffle(idx)\n",
    "X = diabetes.data[idx]\n",
    "y = diabetes.target[idx]"
   ]
  },
  {
   "cell_type": "markdown",
   "metadata": {},
   "source": [
    "試試看 linear regression"
   ]
  },
  {
   "cell_type": "code",
   "execution_count": null,
   "metadata": {},
   "outputs": [],
   "source": [
    "train_X = X[:-50, 2:3]\n",
    "train_y = y[:-50]\n",
    "test_X = X[-50:, 2:3]\n",
    "test_y = y[-50:]\n",
    "regr = linear_model.LinearRegression()\n",
    "regr.fit(train_X, train_y)\n",
    "plt.plot(train_X, train_y, 'o');\n",
    "plt.plot(train_X, regr.predict(train_X), 'o');\n",
    "np.mean((regr.predict(train_X)-train_y)**2)"
   ]
  },
  {
   "cell_type": "code",
   "execution_count": null,
   "metadata": {},
   "outputs": [],
   "source": [
    "plt.plot(test_X, test_y, 'o');\n",
    "plt.plot(test_X, regr.predict(test_X), 'o');"
   ]
  },
  {
   "cell_type": "markdown",
   "metadata": {},
   "source": [
    "### 用所有變數"
   ]
  },
  {
   "cell_type": "code",
   "execution_count": null,
   "metadata": {},
   "outputs": [],
   "source": [
    "train_X = X[:-50]\n",
    "train_y = y[:-50]\n",
    "test_X = X[-50:]\n",
    "test_y = y[-50:]\n",
    "regr = linear_model.LinearRegression()\n",
    "regr.fit(train_X, train_y)\n",
    "np.mean((regr.predict(train_X)-train_y)**2)"
   ]
  },
  {
   "cell_type": "code",
   "execution_count": null,
   "metadata": {},
   "outputs": [],
   "source": [
    "np.mean((regr.predict(test_X)-test_y)**2)"
   ]
  },
  {
   "cell_type": "code",
   "execution_count": null,
   "metadata": {},
   "outputs": [],
   "source": [
    "plt.plot(test_X[:, 2:3], test_y, 'o');\n",
    "plt.plot(test_X[:, 2:3], regr.predict(test_X), 'o');"
   ]
  },
  {
   "cell_type": "code",
   "execution_count": null,
   "metadata": {},
   "outputs": [],
   "source": [
    "plt.scatter(regr.predict(train_X), train_y, c='g', s=3)\n",
    "plt.scatter(regr.predict(test_X), test_y, c='b')\n",
    "plt.plot([0,300],[0,300],'r', linewidth=1);"
   ]
  },
  {
   "cell_type": "code",
   "execution_count": null,
   "metadata": {},
   "outputs": [],
   "source": [
    "groups = np.arange(30,300,60)\n",
    "predict_y=regr.predict(train_X)\n",
    "plt.boxplot([train_y[(predict_y>=i-30)&(predict_y< i+30)] for i in groups], labels=groups);\n",
    "plt.plot(np.arange(1,len(groups)+1), groups,'x');"
   ]
  },
  {
   "cell_type": "markdown",
   "metadata": {},
   "source": [
    "## Overfitting\n",
    "\n",
    "https://tjwei.github.io/NeuralNetwork-Jobspace-slides/#/7"
   ]
  },
  {
   "cell_type": "markdown",
   "metadata": {},
   "source": [
    "### Regularization\n",
    "$\\frac{1}{2  n} \\left\\Vert y - Xw\\right\\Vert_2^2 + α \\left\\Vert w \\right\\Vert_1$\n",
    "\n",
    "https://scikit-learn.org/stable/modules/generated/sklearn.linear_model.Lasso.html"
   ]
  },
  {
   "cell_type": "code",
   "execution_count": null,
   "metadata": {},
   "outputs": [],
   "source": [
    "regr = linear_model.Lasso(alpha=0.001)\n",
    "regr.fit(train_X, train_y)\n",
    "np.mean((regr.predict(train_X)-train_y)**2)"
   ]
  },
  {
   "cell_type": "code",
   "execution_count": null,
   "metadata": {},
   "outputs": [],
   "source": [
    "np.mean((regr.predict(test_X)-test_y)**2)"
   ]
  },
  {
   "cell_type": "markdown",
   "metadata": {},
   "source": [
    "### Cross validation\n",
    "https://en.wikipedia.org/wiki/Cross-validation_(statistics)\n",
    "\n",
    "https://scikit-learn.org/stable/modules/generated/sklearn.model_selection.cross_val_score.html"
   ]
  },
  {
   "cell_type": "code",
   "execution_count": null,
   "metadata": {},
   "outputs": [],
   "source": [
    "from sklearn import model_selection\n",
    "α_space = np.logspace(-4, 0, 50)\n",
    "scores =[]\n",
    "for α in α_space:    \n",
    "    regr.alpha = α\n",
    "    s = model_selection.cross_val_score(regr, train_X, train_y, cv=3)\n",
    "    scores.append((s.mean(), s.std()))\n",
    "scores=np.array(scores).T\n",
    "plt.semilogx(α_space, scores[0], 'r')\n",
    "plt.semilogx(α_space, scores[0]+scores[1],'b--')\n",
    "plt.semilogx(α_space, scores[0]-scores[1],'b--')\n",
    "plt.fill_between(α_space, scores[0] + scores[1], scores[0] - scores[1], alpha=0.2);"
   ]
  },
  {
   "cell_type": "markdown",
   "metadata": {},
   "source": [
    "### Model selection: LassoCV\n",
    "https://scikit-learn.org/stable/modules/generated/sklearn.linear_model.LassoCV.html\n",
    "\n",
    "$R^2-score$ : https://en.wikipedia.org/wiki/Coefficient_of_determination#Definitions"
   ]
  },
  {
   "cell_type": "code",
   "execution_count": null,
   "metadata": {},
   "outputs": [],
   "source": [
    "regr = linear_model.LassoCV(alphas = α_space, cv=5)\n",
    "regr.fit(train_X, train_y)\n",
    "print('α=', regr.alpha_)\n",
    "print(\"training score:\", regr.score(train_X, train_y))\n",
    "# compute R^2 score from definition\n",
    "print(1-np.mean((regr.predict(train_X)-train_y)**2)/np.var(train_y))"
   ]
  },
  {
   "cell_type": "code",
   "execution_count": null,
   "metadata": {},
   "outputs": [],
   "source": [
    "print(\"validation score:\", regr.score(test_X, test_y))"
   ]
  },
  {
   "cell_type": "markdown",
   "metadata": {},
   "source": [
    "more about model selection: https://scikit-learn.org/stable/auto_examples/linear_model/plot_lasso_model_selection.html#sphx-glr-auto-examples-linear-model-plot-lasso-model-selection-py"
   ]
  },
  {
   "cell_type": "markdown",
   "metadata": {},
   "source": [
    "### 用 Linear regression 來 classification ?"
   ]
  },
  {
   "cell_type": "code",
   "execution_count": null,
   "metadata": {},
   "outputs": [],
   "source": [
    "X = np.random.normal(1, size=(100,1))\n",
    "y = (X[:,0]>0).ravel()*2-1\n",
    "regr = linear_model.LinearRegression().fit(X, y)\n",
    "test_X=np.linspace(-3,3,10).reshape(-1,1)\n",
    "plt.plot(X, y, 'x');\n",
    "plt.plot(test_X, regr.predict(test_X), 'r')\n",
    "plt.plot([-regr.intercept_/regr.coef_[0]]*2, [-1.5,1.5], 'r--')\n",
    "regr.intercept_"
   ]
  },
  {
   "cell_type": "code",
   "execution_count": null,
   "metadata": {},
   "outputs": [],
   "source": [
    "regr.intercept_"
   ]
  },
  {
   "cell_type": "markdown",
   "metadata": {},
   "source": [
    "## MNIST"
   ]
  },
  {
   "cell_type": "code",
   "execution_count": null,
   "metadata": {},
   "outputs": [],
   "source": [
    "import gzip\n",
    "import pickle\n",
    "with gzip.open('mnist.pkl.gz', 'rb') as f:\n",
    "    train_set, validation_set, test_set = pickle.load(f, encoding='latin1')\n",
    "    \n",
    "train_X, train_y = train_set\n",
    "test_X, test_y = test_set"
   ]
  },
  {
   "cell_type": "code",
   "execution_count": null,
   "metadata": {},
   "outputs": [],
   "source": [
    "regr.fit(train_X, train_y)\n",
    "regr.predict(test_X)"
   ]
  },
  {
   "cell_type": "code",
   "execution_count": null,
   "metadata": {},
   "outputs": [],
   "source": [
    "predict_y = np.floor(regr.predict(train_X)+0.5).astype('int').clip(0,9)\n",
    "np.mean(predict_y == train_y)"
   ]
  },
  {
   "cell_type": "code",
   "execution_count": null,
   "metadata": {},
   "outputs": [],
   "source": [
    "predict_y = np.floor(regr.predict(test_X)+0.5).astype('int').clip(0,9)\n",
    "np.mean(predict_y == test_y)"
   ]
  },
  {
   "cell_type": "markdown",
   "metadata": {},
   "source": [
    "準確率約 23% 很低"
   ]
  },
  {
   "cell_type": "markdown",
   "metadata": {},
   "source": [
    "### One hot encoding"
   ]
  },
  {
   "cell_type": "code",
   "execution_count": null,
   "metadata": {},
   "outputs": [],
   "source": [
    "train_Y = np.zeros(shape=(train_y.shape[0], 10))\n",
    "train_Y[np.arange(train_y.shape[0]), train_y] = 1"
   ]
  },
  {
   "cell_type": "code",
   "execution_count": null,
   "metadata": {},
   "outputs": [],
   "source": [
    "train_y[0]"
   ]
  },
  {
   "cell_type": "code",
   "execution_count": null,
   "metadata": {},
   "outputs": [],
   "source": [
    "train_Y[0]"
   ]
  },
  {
   "cell_type": "code",
   "execution_count": null,
   "metadata": {},
   "outputs": [],
   "source": [
    "from sklearn.preprocessing import OneHotEncoder\n",
    "onehot_encoder = OneHotEncoder()\n",
    "onehot_encoder.fit(train_y.reshape(-1,1))\n",
    "onehot_encoder.transform(train_y.reshape(-1,1)).toarray()[0]"
   ]
  },
  {
   "cell_type": "code",
   "execution_count": null,
   "metadata": {},
   "outputs": [],
   "source": [
    "# 訓練模型\n",
    "regr.fit(train_X, train_Y)\n",
    "\n",
    "# 用 argmax 得到結果\n",
    "predict_y = np.argmax(regr.predict(train_X), axis=1)\n",
    "# 計算正確率\n",
    "np.mean(predict_y == train_y)"
   ]
  },
  {
   "cell_type": "markdown",
   "metadata": {},
   "source": [
    "## Q\n",
    "試試看 test accuracy"
   ]
  },
  {
   "cell_type": "code",
   "execution_count": null,
   "metadata": {},
   "outputs": [],
   "source": [
    "%run -i q_minst_linear_regression.py"
   ]
  },
  {
   "cell_type": "markdown",
   "metadata": {},
   "source": [
    "## Q\n",
    "用 PCA 先處理過 試試看"
   ]
  }
 ],
 "metadata": {
  "kernelspec": {
   "display_name": "Python 3",
   "language": "python",
   "name": "python3"
  },
  "language_info": {
   "codemirror_mode": {
    "name": "ipython",
    "version": 3
   },
   "file_extension": ".py",
   "mimetype": "text/x-python",
   "name": "python",
   "nbconvert_exporter": "python",
   "pygments_lexer": "ipython3",
   "version": "3.8.5"
  }
 },
 "nbformat": 4,
 "nbformat_minor": 4
}
