{
 "cells": [
  {
   "cell_type": "code",
   "execution_count": null,
   "metadata": {},
   "outputs": [],
   "source": [
    "%matplotlib inline\n",
    "import matplotlib.pyplot as plt\n",
    "import numpy as np"
   ]
  },
  {
   "cell_type": "code",
   "execution_count": null,
   "metadata": {},
   "outputs": [],
   "source": [
    "import matplotlib.font_manager\n",
    "matplotlib.font_manager.findSystemFonts(fontpaths=None, fontext='ttf')"
   ]
  },
  {
   "cell_type": "code",
   "execution_count": null,
   "metadata": {},
   "outputs": [],
   "source": [
    "import matplotlib.font_manager\n",
    "flist = matplotlib.font_manager.get_fontconfig_fonts()\n",
    "names = [matplotlib.font_manager.FontProperties(fname=fname).get_name() for fname in flist]\n",
    "print(names)"
   ]
  },
  {
   "cell_type": "code",
   "execution_count": null,
   "metadata": {},
   "outputs": [],
   "source": [
    "plt.text(.5,.5, \"Hello\", fontsize=60, va=\"center\", ha=\"center\")"
   ]
  },
  {
   "cell_type": "code",
   "execution_count": null,
   "metadata": {},
   "outputs": [],
   "source": [
    "matplotlib.font_manager.FontProperties?"
   ]
  },
  {
   "cell_type": "code",
   "execution_count": null,
   "metadata": {},
   "outputs": [],
   "source": [
    "font1 = matplotlib.font_manager.FontProperties(family='Junicode', \n",
    "            size=72, style='italic', weight='heavy')\n",
    "font2 = matplotlib.font_manager.FontProperties(family='Junicode', \n",
    "            size=74, style='italic', weight='light')\n",
    "plt.text(.5,.5, \"Hello\",  va=\"center\", ha=\"center\", fontproperties=font1, \n",
    "         color='red')\n",
    "plt.text(.5,.5, \"Hello\",  va=\"center\", ha=\"center\", \n",
    "         fontproperties=font2, alpha=0.5)"
   ]
  },
  {
   "cell_type": "code",
   "execution_count": null,
   "metadata": {},
   "outputs": [],
   "source": [
    "import matplotlib.font_manager\n",
    "\n",
    "def make_html(fontname):\n",
    "    return \"<p>{font}: <span style='font-family:{font}; font-size: 24px;'>{font}</p>\".format(font=fontname)\n",
    "\n",
    "for fname in sorted(set([f.name for f in matplotlib.font_manager.fontManager.ttflist])):\n",
    "    print(fname)\n",
    "    plt.figure(figsize=(5,.5))\n",
    "    plt.axis('off')\n",
    "    font = matplotlib.font_manager.FontProperties(family=fname, size=36)\n",
    "    plt.text(0,0, fname, fontproperties=font)\n",
    "    plt.show()"
   ]
  },
  {
   "cell_type": "code",
   "execution_count": null,
   "metadata": {},
   "outputs": [],
   "source": [
    "font = matplotlib.font_manager.FontProperties(family='FontAwesome', \n",
    "            size=72, style='normal', weight='light')\n",
    "plt.text(.5,.5, \"\",  va=\"center\", ha=\"center\", fontproperties=font)"
   ]
  },
  {
   "cell_type": "code",
   "execution_count": null,
   "metadata": {},
   "outputs": [],
   "source": []
  }
 ],
 "metadata": {
  "kernelspec": {
   "display_name": "Python 3",
   "language": "python",
   "name": "python3"
  },
  "language_info": {
   "codemirror_mode": {
    "name": "ipython",
    "version": 3
   },
   "file_extension": ".py",
   "mimetype": "text/x-python",
   "name": "python",
   "nbconvert_exporter": "python",
   "pygments_lexer": "ipython3",
   "version": "3.7.3"
  }
 },
 "nbformat": 4,
 "nbformat_minor": 4
}
